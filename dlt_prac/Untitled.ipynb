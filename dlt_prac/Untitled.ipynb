{
 "cells": [
  {
   "cell_type": "code",
   "execution_count": 7,
   "id": "e239df1f-b8be-42ac-aa1e-2bdf32f1af58",
   "metadata": {},
   "outputs": [
    {
     "name": "stdout",
     "output_type": "stream",
     "text": [
      "3.10.7 (tags/v3.10.7:6cc6b13, Sep  5 2022, 14:08:36) [MSC v.1933 64 bit (AMD64)]\n"
     ]
    }
   ],
   "source": [
    "\n",
    "import sys\n",
    "print(sys.version)"
   ]
  },
  {
   "cell_type": "code",
   "execution_count": 8,
   "id": "7f493016-f007-4c4a-8bb3-193dc810e96b",
   "metadata": {},
   "outputs": [
    {
     "name": "stdout",
     "output_type": "stream",
     "text": [
      "Requirement already satisfied: dlt in c:\\users\\doreen wanyama\\data_enginnering\\dlt_prac\\dltp\\lib\\site-packages (0.4.3)\n",
      "Requirement already satisfied: typing-extensions>=4.0.0 in c:\\users\\doreen wanyama\\data_enginnering\\dlt_prac\\dltp\\lib\\site-packages (from dlt) (4.9.0)\n",
      "Requirement already satisfied: simplejson>=3.17.5 in c:\\users\\doreen wanyama\\data_enginnering\\dlt_prac\\dltp\\lib\\site-packages (from dlt) (3.19.2)\n",
      "Requirement already satisfied: makefun>=1.15.0 in c:\\users\\doreen wanyama\\data_enginnering\\dlt_prac\\dltp\\lib\\site-packages (from dlt) (1.15.2)\n",
      "Requirement already satisfied: pendulum>=2.1.2 in c:\\users\\doreen wanyama\\data_enginnering\\dlt_prac\\dltp\\lib\\site-packages (from dlt) (3.0.0)\n",
      "Requirement already satisfied: SQLAlchemy>=1.4.0 in c:\\users\\doreen wanyama\\data_enginnering\\dlt_prac\\dltp\\lib\\site-packages (from dlt) (2.0.25)\n",
      "Requirement already satisfied: requests>=2.26.0 in c:\\users\\doreen wanyama\\data_enginnering\\dlt_prac\\dltp\\lib\\site-packages (from dlt) (2.31.0)\n",
      "Requirement already satisfied: setuptools>=65.6.0 in c:\\users\\doreen wanyama\\data_enginnering\\dlt_prac\\dltp\\lib\\site-packages (from dlt) (69.0.3)\n",
      "Requirement already satisfied: humanize>=4.4.0 in c:\\users\\doreen wanyama\\data_enginnering\\dlt_prac\\dltp\\lib\\site-packages (from dlt) (4.9.0)\n",
      "Requirement already satisfied: tzdata>=2022.1 in c:\\users\\doreen wanyama\\data_enginnering\\dlt_prac\\dltp\\lib\\site-packages (from dlt) (2023.4)\n",
      "Requirement already satisfied: giturlparse>=0.10.0 in c:\\users\\doreen wanyama\\data_enginnering\\dlt_prac\\dltp\\lib\\site-packages (from dlt) (0.12.0)\n",
      "Requirement already satisfied: packaging>=21.1 in c:\\users\\doreen wanyama\\data_enginnering\\dlt_prac\\dltp\\lib\\site-packages (from dlt) (23.2)\n",
      "Requirement already satisfied: tomlkit>=0.11.3 in c:\\users\\doreen wanyama\\data_enginnering\\dlt_prac\\dltp\\lib\\site-packages (from dlt) (0.12.3)\n",
      "Requirement already satisfied: pathvalidate>=2.5.2 in c:\\users\\doreen wanyama\\data_enginnering\\dlt_prac\\dltp\\lib\\site-packages (from dlt) (3.2.0)\n",
      "Requirement already satisfied: jsonpath-ng>=1.5.3 in c:\\users\\doreen wanyama\\data_enginnering\\dlt_prac\\dltp\\lib\\site-packages (from dlt) (1.6.1)\n",
      "Requirement already satisfied: orjson>=3.6.7 in c:\\users\\doreen wanyama\\data_enginnering\\dlt_prac\\dltp\\lib\\site-packages (from dlt) (3.9.13)\n",
      "Requirement already satisfied: tenacity>=8.0.2 in c:\\users\\doreen wanyama\\data_enginnering\\dlt_prac\\dltp\\lib\\site-packages (from dlt) (8.2.3)\n",
      "Requirement already satisfied: win-precise-time>=1.4.2 in c:\\users\\doreen wanyama\\data_enginnering\\dlt_prac\\dltp\\lib\\site-packages (from dlt) (1.4.2)\n",
      "Requirement already satisfied: semver>=2.13.0 in c:\\users\\doreen wanyama\\data_enginnering\\dlt_prac\\dltp\\lib\\site-packages (from dlt) (3.0.2)\n",
      "Requirement already satisfied: gitpython>=3.1.29 in c:\\users\\doreen wanyama\\data_enginnering\\dlt_prac\\dltp\\lib\\site-packages (from dlt) (3.1.41)\n",
      "Requirement already satisfied: fsspec>=2022.4.0 in c:\\users\\doreen wanyama\\data_enginnering\\dlt_prac\\dltp\\lib\\site-packages (from dlt) (2024.2.0)\n",
      "Requirement already satisfied: astunparse>=1.6.3 in c:\\users\\doreen wanyama\\data_enginnering\\dlt_prac\\dltp\\lib\\site-packages (from dlt) (1.6.3)\n",
      "Requirement already satisfied: pytz>=2022.6 in c:\\users\\doreen wanyama\\data_enginnering\\dlt_prac\\dltp\\lib\\site-packages (from dlt) (2024.1)\n",
      "Requirement already satisfied: hexbytes>=0.2.2 in c:\\users\\doreen wanyama\\data_enginnering\\dlt_prac\\dltp\\lib\\site-packages (from dlt) (1.0.0)\n",
      "Requirement already satisfied: click>=7.1 in c:\\users\\doreen wanyama\\data_enginnering\\dlt_prac\\dltp\\lib\\site-packages (from dlt) (8.1.7)\n",
      "Requirement already satisfied: PyYAML>=5.4.1 in c:\\users\\doreen wanyama\\data_enginnering\\dlt_prac\\dltp\\lib\\site-packages (from dlt) (6.0.1)\n",
      "Requirement already satisfied: requirements-parser>=0.5.0 in c:\\users\\doreen wanyama\\data_enginnering\\dlt_prac\\dltp\\lib\\site-packages (from dlt) (0.5.0)\n",
      "Requirement already satisfied: six<2.0,>=1.6.1 in c:\\users\\doreen wanyama\\data_enginnering\\dlt_prac\\dltp\\lib\\site-packages (from astunparse>=1.6.3->dlt) (1.16.0)\n",
      "Requirement already satisfied: wheel<1.0,>=0.23.0 in c:\\users\\doreen wanyama\\data_enginnering\\dlt_prac\\dltp\\lib\\site-packages (from astunparse>=1.6.3->dlt) (0.42.0)\n",
      "Requirement already satisfied: colorama in c:\\users\\doreen wanyama\\data_enginnering\\dlt_prac\\dltp\\lib\\site-packages (from click>=7.1->dlt) (0.4.6)\n",
      "Requirement already satisfied: gitdb<5,>=4.0.1 in c:\\users\\doreen wanyama\\data_enginnering\\dlt_prac\\dltp\\lib\\site-packages (from gitpython>=3.1.29->dlt) (4.0.11)\n",
      "Requirement already satisfied: ply in c:\\users\\doreen wanyama\\data_enginnering\\dlt_prac\\dltp\\lib\\site-packages (from jsonpath-ng>=1.5.3->dlt) (3.11)\n",
      "Requirement already satisfied: time-machine>=2.6.0 in c:\\users\\doreen wanyama\\data_enginnering\\dlt_prac\\dltp\\lib\\site-packages (from pendulum>=2.1.2->dlt) (2.13.0)\n",
      "Requirement already satisfied: python-dateutil>=2.6 in c:\\users\\doreen wanyama\\data_enginnering\\dlt_prac\\dltp\\lib\\site-packages (from pendulum>=2.1.2->dlt) (2.8.2)\n",
      "Requirement already satisfied: certifi>=2017.4.17 in c:\\users\\doreen wanyama\\data_enginnering\\dlt_prac\\dltp\\lib\\site-packages (from requests>=2.26.0->dlt) (2024.2.2)\n",
      "Requirement already satisfied: urllib3<3,>=1.21.1 in c:\\users\\doreen wanyama\\data_enginnering\\dlt_prac\\dltp\\lib\\site-packages (from requests>=2.26.0->dlt) (2.2.0)\n",
      "Requirement already satisfied: idna<4,>=2.5 in c:\\users\\doreen wanyama\\data_enginnering\\dlt_prac\\dltp\\lib\\site-packages (from requests>=2.26.0->dlt) (3.6)\n",
      "Requirement already satisfied: charset-normalizer<4,>=2 in c:\\users\\doreen wanyama\\data_enginnering\\dlt_prac\\dltp\\lib\\site-packages (from requests>=2.26.0->dlt) (3.3.2)\n",
      "Requirement already satisfied: types-setuptools>=57.0.0 in c:\\users\\doreen wanyama\\data_enginnering\\dlt_prac\\dltp\\lib\\site-packages (from requirements-parser>=0.5.0->dlt) (69.0.0.20240125)\n",
      "Requirement already satisfied: greenlet!=0.4.17 in c:\\users\\doreen wanyama\\data_enginnering\\dlt_prac\\dltp\\lib\\site-packages (from SQLAlchemy>=1.4.0->dlt) (3.0.3)\n",
      "Requirement already satisfied: smmap<6,>=3.0.1 in c:\\users\\doreen wanyama\\data_enginnering\\dlt_prac\\dltp\\lib\\site-packages (from gitdb<5,>=4.0.1->gitpython>=3.1.29->dlt) (5.0.1)\n"
     ]
    },
    {
     "name": "stderr",
     "output_type": "stream",
     "text": [
      "\n",
      "[notice] A new release of pip available: 22.2.2 -> 24.0\n",
      "[notice] To update, run: python.exe -m pip install --upgrade pip\n"
     ]
    }
   ],
   "source": [
    "!pip install dlt"
   ]
  },
  {
   "cell_type": "code",
   "execution_count": 11,
   "id": "2ccbaae2-da2f-492b-a418-3457f7868e8f",
   "metadata": {},
   "outputs": [
    {
     "ename": "ModuleNotFoundError",
     "evalue": "No module named 'duckdb'",
     "output_type": "error",
     "traceback": [
      "\u001b[1;31m---------------------------------------------------------------------------\u001b[0m",
      "\u001b[1;31mModuleNotFoundError\u001b[0m                       Traceback (most recent call last)",
      "Cell \u001b[1;32mIn[11], line 2\u001b[0m\n\u001b[0;32m      1\u001b[0m \u001b[38;5;66;03m#import dlt\u001b[39;00m\n\u001b[1;32m----> 2\u001b[0m \u001b[38;5;28;01mimport\u001b[39;00m \u001b[38;5;21;01mduckdb\u001b[39;00m\n\u001b[0;32m      3\u001b[0m \u001b[38;5;28;01mimport\u001b[39;00m \u001b[38;5;21;01mpandas\u001b[39;00m\n\u001b[0;32m      6\u001b[0m data \u001b[38;5;241m=\u001b[39m [\n\u001b[0;32m      7\u001b[0m     {\n\u001b[0;32m      8\u001b[0m         \u001b[38;5;124m\"\u001b[39m\u001b[38;5;124mvendor_name\u001b[39m\u001b[38;5;124m\"\u001b[39m: \u001b[38;5;124m\"\u001b[39m\u001b[38;5;124mVTS\u001b[39m\u001b[38;5;124m\"\u001b[39m,\n\u001b[1;32m   (...)\u001b[0m\n\u001b[0;32m     48\u001b[0m     \u001b[38;5;66;03m# ... more data\u001b[39;00m\n\u001b[0;32m     49\u001b[0m ]\n",
      "\u001b[1;31mModuleNotFoundError\u001b[0m: No module named 'duckdb'"
     ]
    }
   ],
   "source": [
    "\n",
    "#import dlt\n",
    "import duckdb\n",
    "import pandas\n",
    "\n",
    "\n",
    "data = [\n",
    "    {\n",
    "        \"vendor_name\": \"VTS\",\n",
    "\t\t\t\t\"record_hash\": \"b00361a396177a9cb410ff61f20015ad\",\n",
    "        \"time\": {\n",
    "            \"pickup\": \"2009-06-14 23:23:00\",\n",
    "            \"dropoff\": \"2009-06-14 23:48:00\"\n",
    "        },\n",
    "        \"Trip_Distance\": 17.52,\n",
    "        # nested dictionaries could be flattened\n",
    "        \"coordinates\": { # coordinates__start__lon\n",
    "            \"start\": {\n",
    "                \"lon\": -73.787442,\n",
    "                \"lat\": 40.641525\n",
    "            },\n",
    "            \"end\": {\n",
    "                \"lon\": -73.980072,\n",
    "                \"lat\": 40.742963\n",
    "            }\n",
    "        },\n",
    "        \"Rate_Code\": None,\n",
    "        \"store_and_forward\": None,\n",
    "        \"Payment\": {\n",
    "            \"type\": \"Credit\",\n",
    "            \"amt\": 20.5,\n",
    "            \"surcharge\": 0,\n",
    "            \"mta_tax\": None,\n",
    "            \"tip\": 9,\n",
    "            \"tolls\": 4.15,\n",
    "\t\t\t\t\t\t\"status\": \"booked\"\n",
    "        },\n",
    "        \"Passenger_Count\": 2,\n",
    "        # nested lists need to be expressed as separate tables\n",
    "        \"passengers\": [\n",
    "            {\"name\": \"John\", \"rating\": 4.9},\n",
    "            {\"name\": \"Jack\", \"rating\": 3.9}\n",
    "        ],\n",
    "        \"Stops\": [\n",
    "            {\"lon\": -73.6, \"lat\": 40.6},\n",
    "            {\"lon\": -73.5, \"lat\": 40.5}\n",
    "        ]\n",
    "    },\n",
    "    # ... more data\n",
    "]\n",
    "\n",
    "pipeline = dlt.pipeline(destination='duckdb', dataset_name='taxi_rides')\n",
    "\n",
    "info = pipeline.run(data,\n",
    "\t\t\t\t\ttable_name=\"rides\",\n",
    "\t\t\t\t\twrite_disposition=\"merge\",\n",
    "                    primary_key=\"record_hash\")\n",
    "\n",
    "print(info)"
   ]
  },
  {
   "cell_type": "code",
   "execution_count": 10,
   "id": "7684eb5b-ac03-4d4a-804b-238fa3d87405",
   "metadata": {},
   "outputs": [
    {
     "ename": "NameError",
     "evalue": "name 'dlt' is not defined",
     "output_type": "error",
     "traceback": [
      "\u001b[1;31m---------------------------------------------------------------------------\u001b[0m",
      "\u001b[1;31mNameError\u001b[0m                                 Traceback (most recent call last)",
      "Cell \u001b[1;32mIn[10], line 1\u001b[0m\n\u001b[1;32m----> 1\u001b[0m \u001b[43mdlt\u001b[49m \u001b[38;5;241m-\u001b[39m\u001b[38;5;241m-\u001b[39mversion\n",
      "\u001b[1;31mNameError\u001b[0m: name 'dlt' is not defined"
     ]
    }
   ],
   "source": [
    "dlt --version\n"
   ]
  },
  {
   "cell_type": "code",
   "execution_count": null,
   "id": "5eed84f2-d68f-4b29-aa55-34f9e4e8df69",
   "metadata": {},
   "outputs": [],
   "source": []
  }
 ],
 "metadata": {
  "kernelspec": {
   "display_name": "Python 3 (ipykernel)",
   "language": "python",
   "name": "python3"
  },
  "language_info": {
   "codemirror_mode": {
    "name": "ipython",
    "version": 3
   },
   "file_extension": ".py",
   "mimetype": "text/x-python",
   "name": "python",
   "nbconvert_exporter": "python",
   "pygments_lexer": "ipython3",
   "version": "3.10.7"
  }
 },
 "nbformat": 4,
 "nbformat_minor": 5
}
